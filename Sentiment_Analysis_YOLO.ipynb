{
  "nbformat": 4,
  "nbformat_minor": 0,
  "metadata": {
    "colab": {
      "provenance": []
    },
    "kernelspec": {
      "name": "python3",
      "display_name": "Python 3"
    },
    "language_info": {
      "name": "python"
    }
  },
  "cells": [
    {
      "cell_type": "code",
      "execution_count": null,
      "metadata": {
        "colab": {
          "base_uri": "https://localhost:8080/"
        },
        "id": "D_4o-cxGOV34",
        "outputId": "75af559e-a789-4815-ff29-73ac3b6da4d9"
      },
      "outputs": [
        {
          "output_type": "stream",
          "name": "stderr",
          "text": [
            "[nltk_data] Downloading package stopwords to /root/nltk_data...\n",
            "[nltk_data]   Package stopwords is already up-to-date!\n",
            "[nltk_data] Downloading package punkt to /root/nltk_data...\n",
            "[nltk_data]   Package punkt is already up-to-date!\n"
          ]
        },
        {
          "output_type": "execute_result",
          "data": {
            "text/plain": [
              "True"
            ]
          },
          "metadata": {},
          "execution_count": 84
        }
      ],
      "source": [
        "import pandas as pd\n",
        "import nltk\n",
        "nltk.download('stopwords')\n",
        "import matplotlib.pyplot as plt\n",
        "nltk.download('punkt')\n"
      ]
    },
    {
      "cell_type": "code",
      "source": [
        "df = pd.read_csv(\"/content/twt_data.csv\")"
      ],
      "metadata": {
        "id": "TyLdSnoSQrKC"
      },
      "execution_count": null,
      "outputs": []
    },
    {
      "cell_type": "code",
      "source": [
        "print(\"Dataset size:\", len(df))\n"
      ],
      "metadata": {
        "colab": {
          "base_uri": "https://localhost:8080/"
        },
        "id": "Ae6kXmuCQs9w",
        "outputId": "8cc29aec-b5ed-4e18-8f76-a9b25a5b014f"
      },
      "execution_count": null,
      "outputs": [
        {
          "output_type": "stream",
          "name": "stdout",
          "text": [
            "Dataset size: 62380\n"
          ]
        }
      ]
    },
    {
      "cell_type": "code",
      "source": [
        "df.head(5)"
      ],
      "metadata": {
        "colab": {
          "base_uri": "https://localhost:8080/",
          "height": 206
        },
        "id": "cj5RvP-SQvYX",
        "outputId": "4c66fe91-038a-4292-b932-69c8236d0266"
      },
      "execution_count": null,
      "outputs": [
        {
          "output_type": "execute_result",
          "data": {
            "text/plain": [
              "       tweet_id sentiment                                            content\n",
              "0  1.956968e+09   sadness  Layin n bed with a headache  ughhhh...waitin o...\n",
              "1  1.956968e+09   sadness                Funeral ceremony...gloomy friday...\n",
              "2  1.956968e+09   neutral  @dannycastillo We want to trade with someone w...\n",
              "3  1.956968e+09     worry  Re-pinging @ghostridah14: why didn't you go to...\n",
              "4  1.956968e+09   sadness  I should be sleep, but im not! thinking about ..."
            ],
            "text/html": [
              "\n",
              "  <div id=\"df-13f33657-e1f1-4545-a808-e9d9cc826226\" class=\"colab-df-container\">\n",
              "    <div>\n",
              "<style scoped>\n",
              "    .dataframe tbody tr th:only-of-type {\n",
              "        vertical-align: middle;\n",
              "    }\n",
              "\n",
              "    .dataframe tbody tr th {\n",
              "        vertical-align: top;\n",
              "    }\n",
              "\n",
              "    .dataframe thead th {\n",
              "        text-align: right;\n",
              "    }\n",
              "</style>\n",
              "<table border=\"1\" class=\"dataframe\">\n",
              "  <thead>\n",
              "    <tr style=\"text-align: right;\">\n",
              "      <th></th>\n",
              "      <th>tweet_id</th>\n",
              "      <th>sentiment</th>\n",
              "      <th>content</th>\n",
              "    </tr>\n",
              "  </thead>\n",
              "  <tbody>\n",
              "    <tr>\n",
              "      <th>0</th>\n",
              "      <td>1.956968e+09</td>\n",
              "      <td>sadness</td>\n",
              "      <td>Layin n bed with a headache  ughhhh...waitin o...</td>\n",
              "    </tr>\n",
              "    <tr>\n",
              "      <th>1</th>\n",
              "      <td>1.956968e+09</td>\n",
              "      <td>sadness</td>\n",
              "      <td>Funeral ceremony...gloomy friday...</td>\n",
              "    </tr>\n",
              "    <tr>\n",
              "      <th>2</th>\n",
              "      <td>1.956968e+09</td>\n",
              "      <td>neutral</td>\n",
              "      <td>@dannycastillo We want to trade with someone w...</td>\n",
              "    </tr>\n",
              "    <tr>\n",
              "      <th>3</th>\n",
              "      <td>1.956968e+09</td>\n",
              "      <td>worry</td>\n",
              "      <td>Re-pinging @ghostridah14: why didn't you go to...</td>\n",
              "    </tr>\n",
              "    <tr>\n",
              "      <th>4</th>\n",
              "      <td>1.956968e+09</td>\n",
              "      <td>sadness</td>\n",
              "      <td>I should be sleep, but im not! thinking about ...</td>\n",
              "    </tr>\n",
              "  </tbody>\n",
              "</table>\n",
              "</div>\n",
              "    <div class=\"colab-df-buttons\">\n",
              "\n",
              "  <div class=\"colab-df-container\">\n",
              "    <button class=\"colab-df-convert\" onclick=\"convertToInteractive('df-13f33657-e1f1-4545-a808-e9d9cc826226')\"\n",
              "            title=\"Convert this dataframe to an interactive table.\"\n",
              "            style=\"display:none;\">\n",
              "\n",
              "  <svg xmlns=\"http://www.w3.org/2000/svg\" height=\"24px\" viewBox=\"0 -960 960 960\">\n",
              "    <path d=\"M120-120v-720h720v720H120Zm60-500h600v-160H180v160Zm220 220h160v-160H400v160Zm0 220h160v-160H400v160ZM180-400h160v-160H180v160Zm440 0h160v-160H620v160ZM180-180h160v-160H180v160Zm440 0h160v-160H620v160Z\"/>\n",
              "  </svg>\n",
              "    </button>\n",
              "\n",
              "  <style>\n",
              "    .colab-df-container {\n",
              "      display:flex;\n",
              "      gap: 12px;\n",
              "    }\n",
              "\n",
              "    .colab-df-convert {\n",
              "      background-color: #E8F0FE;\n",
              "      border: none;\n",
              "      border-radius: 50%;\n",
              "      cursor: pointer;\n",
              "      display: none;\n",
              "      fill: #1967D2;\n",
              "      height: 32px;\n",
              "      padding: 0 0 0 0;\n",
              "      width: 32px;\n",
              "    }\n",
              "\n",
              "    .colab-df-convert:hover {\n",
              "      background-color: #E2EBFA;\n",
              "      box-shadow: 0px 1px 2px rgba(60, 64, 67, 0.3), 0px 1px 3px 1px rgba(60, 64, 67, 0.15);\n",
              "      fill: #174EA6;\n",
              "    }\n",
              "\n",
              "    .colab-df-buttons div {\n",
              "      margin-bottom: 4px;\n",
              "    }\n",
              "\n",
              "    [theme=dark] .colab-df-convert {\n",
              "      background-color: #3B4455;\n",
              "      fill: #D2E3FC;\n",
              "    }\n",
              "\n",
              "    [theme=dark] .colab-df-convert:hover {\n",
              "      background-color: #434B5C;\n",
              "      box-shadow: 0px 1px 3px 1px rgba(0, 0, 0, 0.15);\n",
              "      filter: drop-shadow(0px 1px 2px rgba(0, 0, 0, 0.3));\n",
              "      fill: #FFFFFF;\n",
              "    }\n",
              "  </style>\n",
              "\n",
              "    <script>\n",
              "      const buttonEl =\n",
              "        document.querySelector('#df-13f33657-e1f1-4545-a808-e9d9cc826226 button.colab-df-convert');\n",
              "      buttonEl.style.display =\n",
              "        google.colab.kernel.accessAllowed ? 'block' : 'none';\n",
              "\n",
              "      async function convertToInteractive(key) {\n",
              "        const element = document.querySelector('#df-13f33657-e1f1-4545-a808-e9d9cc826226');\n",
              "        const dataTable =\n",
              "          await google.colab.kernel.invokeFunction('convertToInteractive',\n",
              "                                                    [key], {});\n",
              "        if (!dataTable) return;\n",
              "\n",
              "        const docLinkHtml = 'Like what you see? Visit the ' +\n",
              "          '<a target=\"_blank\" href=https://colab.research.google.com/notebooks/data_table.ipynb>data table notebook</a>'\n",
              "          + ' to learn more about interactive tables.';\n",
              "        element.innerHTML = '';\n",
              "        dataTable['output_type'] = 'display_data';\n",
              "        await google.colab.output.renderOutput(dataTable, element);\n",
              "        const docLink = document.createElement('div');\n",
              "        docLink.innerHTML = docLinkHtml;\n",
              "        element.appendChild(docLink);\n",
              "      }\n",
              "    </script>\n",
              "  </div>\n",
              "\n",
              "\n",
              "<div id=\"df-1fada603-f2bc-4b25-b2ea-28cdcc0c24ca\">\n",
              "  <button class=\"colab-df-quickchart\" onclick=\"quickchart('df-1fada603-f2bc-4b25-b2ea-28cdcc0c24ca')\"\n",
              "            title=\"Suggest charts.\"\n",
              "            style=\"display:none;\">\n",
              "\n",
              "<svg xmlns=\"http://www.w3.org/2000/svg\" height=\"24px\"viewBox=\"0 0 24 24\"\n",
              "     width=\"24px\">\n",
              "    <g>\n",
              "        <path d=\"M19 3H5c-1.1 0-2 .9-2 2v14c0 1.1.9 2 2 2h14c1.1 0 2-.9 2-2V5c0-1.1-.9-2-2-2zM9 17H7v-7h2v7zm4 0h-2V7h2v10zm4 0h-2v-4h2v4z\"/>\n",
              "    </g>\n",
              "</svg>\n",
              "  </button>\n",
              "\n",
              "<style>\n",
              "  .colab-df-quickchart {\n",
              "      --bg-color: #E8F0FE;\n",
              "      --fill-color: #1967D2;\n",
              "      --hover-bg-color: #E2EBFA;\n",
              "      --hover-fill-color: #174EA6;\n",
              "      --disabled-fill-color: #AAA;\n",
              "      --disabled-bg-color: #DDD;\n",
              "  }\n",
              "\n",
              "  [theme=dark] .colab-df-quickchart {\n",
              "      --bg-color: #3B4455;\n",
              "      --fill-color: #D2E3FC;\n",
              "      --hover-bg-color: #434B5C;\n",
              "      --hover-fill-color: #FFFFFF;\n",
              "      --disabled-bg-color: #3B4455;\n",
              "      --disabled-fill-color: #666;\n",
              "  }\n",
              "\n",
              "  .colab-df-quickchart {\n",
              "    background-color: var(--bg-color);\n",
              "    border: none;\n",
              "    border-radius: 50%;\n",
              "    cursor: pointer;\n",
              "    display: none;\n",
              "    fill: var(--fill-color);\n",
              "    height: 32px;\n",
              "    padding: 0;\n",
              "    width: 32px;\n",
              "  }\n",
              "\n",
              "  .colab-df-quickchart:hover {\n",
              "    background-color: var(--hover-bg-color);\n",
              "    box-shadow: 0 1px 2px rgba(60, 64, 67, 0.3), 0 1px 3px 1px rgba(60, 64, 67, 0.15);\n",
              "    fill: var(--button-hover-fill-color);\n",
              "  }\n",
              "\n",
              "  .colab-df-quickchart-complete:disabled,\n",
              "  .colab-df-quickchart-complete:disabled:hover {\n",
              "    background-color: var(--disabled-bg-color);\n",
              "    fill: var(--disabled-fill-color);\n",
              "    box-shadow: none;\n",
              "  }\n",
              "\n",
              "  .colab-df-spinner {\n",
              "    border: 2px solid var(--fill-color);\n",
              "    border-color: transparent;\n",
              "    border-bottom-color: var(--fill-color);\n",
              "    animation:\n",
              "      spin 1s steps(1) infinite;\n",
              "  }\n",
              "\n",
              "  @keyframes spin {\n",
              "    0% {\n",
              "      border-color: transparent;\n",
              "      border-bottom-color: var(--fill-color);\n",
              "      border-left-color: var(--fill-color);\n",
              "    }\n",
              "    20% {\n",
              "      border-color: transparent;\n",
              "      border-left-color: var(--fill-color);\n",
              "      border-top-color: var(--fill-color);\n",
              "    }\n",
              "    30% {\n",
              "      border-color: transparent;\n",
              "      border-left-color: var(--fill-color);\n",
              "      border-top-color: var(--fill-color);\n",
              "      border-right-color: var(--fill-color);\n",
              "    }\n",
              "    40% {\n",
              "      border-color: transparent;\n",
              "      border-right-color: var(--fill-color);\n",
              "      border-top-color: var(--fill-color);\n",
              "    }\n",
              "    60% {\n",
              "      border-color: transparent;\n",
              "      border-right-color: var(--fill-color);\n",
              "    }\n",
              "    80% {\n",
              "      border-color: transparent;\n",
              "      border-right-color: var(--fill-color);\n",
              "      border-bottom-color: var(--fill-color);\n",
              "    }\n",
              "    90% {\n",
              "      border-color: transparent;\n",
              "      border-bottom-color: var(--fill-color);\n",
              "    }\n",
              "  }\n",
              "</style>\n",
              "\n",
              "  <script>\n",
              "    async function quickchart(key) {\n",
              "      const quickchartButtonEl =\n",
              "        document.querySelector('#' + key + ' button');\n",
              "      quickchartButtonEl.disabled = true;  // To prevent multiple clicks.\n",
              "      quickchartButtonEl.classList.add('colab-df-spinner');\n",
              "      try {\n",
              "        const charts = await google.colab.kernel.invokeFunction(\n",
              "            'suggestCharts', [key], {});\n",
              "      } catch (error) {\n",
              "        console.error('Error during call to suggestCharts:', error);\n",
              "      }\n",
              "      quickchartButtonEl.classList.remove('colab-df-spinner');\n",
              "      quickchartButtonEl.classList.add('colab-df-quickchart-complete');\n",
              "    }\n",
              "    (() => {\n",
              "      let quickchartButtonEl =\n",
              "        document.querySelector('#df-1fada603-f2bc-4b25-b2ea-28cdcc0c24ca button');\n",
              "      quickchartButtonEl.style.display =\n",
              "        google.colab.kernel.accessAllowed ? 'block' : 'none';\n",
              "    })();\n",
              "  </script>\n",
              "</div>\n",
              "    </div>\n",
              "  </div>\n"
            ]
          },
          "metadata": {},
          "execution_count": 87
        }
      ]
    },
    {
      "cell_type": "code",
      "source": [
        "sentiment_counts = df['sentiment'].value_counts()\n",
        "\n",
        "# Plot a bar graph\n",
        "plt.figure(figsize=(10, 6))\n",
        "sentiment_counts.plot(kind='bar')\n",
        "plt.title('Number of Tweets for Each Sentiment Class')\n",
        "plt.xlabel('Sentiment Class')\n",
        "plt.ylabel('Number of Tweets')\n",
        "plt.xticks(rotation=45)\n",
        "plt.show()\n"
      ],
      "metadata": {
        "colab": {
          "base_uri": "https://localhost:8080/",
          "height": 610
        },
        "id": "0jz1EPwoQwq1",
        "outputId": "be5c7f81-92eb-4f58-e4f5-99b1ef8c7435"
      },
      "execution_count": null,
      "outputs": [
        {
          "output_type": "display_data",
          "data": {
            "text/plain": [
              "<Figure size 1000x600 with 1 Axes>"
            ],
            "image/png": "[encoded data removed]"
          },
          "metadata": {}
        }
      ]
    },
    {
      "cell_type": "markdown",
      "source": [
        "Pre-Processing datacleaning\n"
      ],
      "metadata": {
        "id": "qrZwpHTVQ-mK"
      }
    },
    {
      "cell_type": "code",
      "source": [
        "#before preprocessing\n",
        "df['content']"
      ],
      "metadata": {
        "colab": {
          "base_uri": "https://localhost:8080/"
        },
        "id": "pdVEV3xpUs1n",
        "outputId": "22558913-bd1a-4c94-f978-93f4227784f9"
      },
      "execution_count": null,
      "outputs": [
        {
          "output_type": "execute_result",
          "data": {
            "text/plain": [
              "0        Layin n bed with a headache  ughhhh...waitin o...\n",
              "1                      Funeral ceremony...gloomy friday...\n",
              "2        @dannycastillo We want to trade with someone w...\n",
              "3        Re-pinging @ghostridah14: why didn't you go to...\n",
              "4        I should be sleep, but im not! thinking about ...\n",
              "                               ...                        \n",
              "62375               Stupid alarm!! LOL Morning Twiits.....\n",
              "62376    @mzfuller8, @mynervouscharm, @littlebirds, @so...\n",
              "62377    @carrotmadman6 @sjdvda @Morinn The folks at MB...\n",
              "62378     @makikaysantos http://bit.ly/izhdy  here looove.\n",
              "62379    @BenWay08 mmm but nothing i can do. lucky ive ...\n",
              "Name: content, Length: 62380, dtype: object"
            ]
          },
          "metadata": {},
          "execution_count": 89
        }
      ]
    },
    {
      "cell_type": "code",
      "source": [
        "import nltk\n",
        "from nltk.corpus import stopwords\n",
        "from nltk.stem import SnowballStemmer\n",
        "\n",
        "# Download the stopwords\n",
        "nltk.download('stopwords')\n",
        "\n",
        "stop_words = stopwords.words(\"english\")\n",
        "stemmer = SnowballStemmer(\"english\")"
      ],
      "metadata": {
        "colab": {
          "base_uri": "https://localhost:8080/"
        },
        "id": "6oZW4kWSRKsI",
        "outputId": "84b67e67-c251-4e5f-8b57-bf3e5815ad56"
      },
      "execution_count": null,
      "outputs": [
        {
          "output_type": "stream",
          "name": "stderr",
          "text": [
            "[nltk_data] Downloading package stopwords to /root/nltk_data...\n",
            "[nltk_data]   Package stopwords is already up-to-date!\n"
          ]
        }
      ]
    },
    {
      "cell_type": "code",
      "source": [
        "import re\n",
        "\n",
        "# Define a regular expression pattern for text cleaning\n",
        "TEXT_CLEANING_RE = \"@\\S+|https?:\\S+|http?:\\S|[^A-Za-z0-9]+\"\n",
        "\n",
        "def preprocess(text, stem=False):\n",
        "    text = re.sub(TEXT_CLEANING_RE, ' ', str(text).lower()).strip()\n",
        "    tokens = []\n",
        "    for token in text.split():\n",
        "        if token not in stop_words:  # Remove stopwords\n",
        "            if stem:\n",
        "                tokens.append(stemmer.stem(token))\n",
        "            else:\n",
        "                tokens.append(token)\n",
        "    return \" \".join(tokens)\n",
        "\n",
        "df['content'] = df['content'].apply(lambda x: preprocess(x))\n"
      ],
      "metadata": {
        "id": "cluFYcXBRaFa"
      },
      "execution_count": null,
      "outputs": []
    },
    {
      "cell_type": "code",
      "source": [
        "df['content']"
      ],
      "metadata": {
        "colab": {
          "base_uri": "https://localhost:8080/"
        },
        "id": "dBYJ9ig_UmqB",
        "outputId": "5a352833-9cf1-4b77-951c-7fbe645b8805"
      },
      "execution_count": null,
      "outputs": [
        {
          "output_type": "execute_result",
          "data": {
            "text/plain": [
              "0                  layin n bed headache ughhhh waitin call\n",
              "1                           funeral ceremony gloomy friday\n",
              "2                   want trade someone houston tickets one\n",
              "3          pinging ghostridah14 go prom bc bf like friends\n",
              "4        sleep im thinking old friend want married damn...\n",
              "                               ...                        \n",
              "62375                      stupid alarm lol morning twiits\n",
              "62376    mynervouscharm littlebirds sonsah hope happy m...\n",
              "62377    sjdvda morinn folks mbb longer reviewing blogs...\n",
              "62378                                               looove\n",
              "62379    mmm nothing lucky ive got great friends like u...\n",
              "Name: content, Length: 62380, dtype: object"
            ]
          },
          "metadata": {},
          "execution_count": 92
        }
      ]
    },
    {
      "cell_type": "code",
      "source": [
        "import re\n",
        "import nltk\n",
        "from nltk.tokenize import word_tokenize\n",
        "from nltk.stem import PorterStemmer  # Import the stemmer\n",
        "\n",
        "\n",
        "def tokenize_text(text):\n",
        "    cleaned_text = re.sub(TEXT_CLEANING_RE, ' ', str(text).lower()).strip()\n",
        "    # Tokenize the cleaned text\n",
        "    tokens = word_tokenize(cleaned_text)\n",
        "    return tokens\n",
        "\n",
        "# Define a stemming function\n",
        "def stem_text(tokens):\n",
        "    stemmer = PorterStemmer()\n",
        "    stemmed_tokens = [stemmer.stem(token) for token in tokens]\n",
        "    return stemmed_tokens\n",
        "\n",
        "nltk.download('punkt')\n",
        "\n",
        "df['content'] = df['content'].apply(lambda x: stem_text(tokenize_text(x)))\n"
      ],
      "metadata": {
        "colab": {
          "base_uri": "https://localhost:8080/"
        },
        "id": "81dIiktjU8ln",
        "outputId": "44393697-5f6d-4634-ae73-0eddbb1a7ad0"
      },
      "execution_count": null,
      "outputs": [
        {
          "output_type": "stream",
          "name": "stderr",
          "text": [
            "[nltk_data] Downloading package punkt to /root/nltk_data...\n",
            "[nltk_data]   Package punkt is already up-to-date!\n"
          ]
        }
      ]
    },
    {
      "cell_type": "code",
      "source": [
        "df['content']"
      ],
      "metadata": {
        "colab": {
          "base_uri": "https://localhost:8080/"
        },
        "id": "jswcH9BeV7IF",
        "outputId": "f437d505-6698-4e6f-909b-68910e12df86"
      },
      "execution_count": null,
      "outputs": [
        {
          "output_type": "execute_result",
          "data": {
            "text/plain": [
              "0           [layin, n, bed, headach, ughhhh, waitin, call]\n",
              "1                        [funer, ceremoni, gloomi, friday]\n",
              "2              [want, trade, someon, houston, ticket, one]\n",
              "3        [ping, ghostridah14, go, prom, bc, bf, like, f...\n",
              "4        [sleep, im, think, old, friend, want, marri, d...\n",
              "                               ...                        \n",
              "62375                    [stupid, alarm, lol, morn, twiit]\n",
              "62376    [mynervouscharm, littlebird, sonsah, hope, hap...\n",
              "62377    [sjdvda, morinn, folk, mbb, longer, review, bl...\n",
              "62378                                              [looov]\n",
              "62379    [mmm, noth, lucki, ive, got, great, friend, li...\n",
              "Name: content, Length: 62380, dtype: object"
            ]
          },
          "metadata": {},
          "execution_count": 94
        }
      ]
    },
    {
      "cell_type": "markdown",
      "source": [
        "Data Labelling"
      ],
      "metadata": {
        "id": "969Xa7y6XaTz"
      }
    },
    {
      "cell_type": "code",
      "source": [
        "import pandas as pd\n",
        "\n",
        "decode_map = {\n",
        "    'neutral': 0,\n",
        "    'worry': 1,\n",
        "    'happiness': 2,\n",
        "    'sadness': 3,\n",
        "    'love': 4,\n",
        "}\n",
        "\n",
        "def decode_sentiment(label):\n",
        "    return decode_map.get(label, -1)  # Default to -1 if label not found in decode_map\n",
        "\n",
        "\n",
        "df['sentiment'] = df['sentiment'].apply(lambda x: decode_sentiment(x))\n",
        "\n",
        "print(df)\n"
      ],
      "metadata": {
        "colab": {
          "base_uri": "https://localhost:8080/"
        },
        "id": "H5AkgCIjWYJK",
        "outputId": "411815e7-ead3-4ef0-c733-8377fb7fe7a9"
      },
      "execution_count": null,
      "outputs": [
        {
          "output_type": "stream",
          "name": "stdout",
          "text": [
            "           tweet_id  sentiment  \\\n",
            "0      1.956968e+09          3   \n",
            "1      1.956968e+09          3   \n",
            "2      1.956968e+09          0   \n",
            "3      1.956968e+09          1   \n",
            "4      1.956968e+09          3   \n",
            "...             ...        ...   \n",
            "62375  1.753855e+09          0   \n",
            "62376  1.753855e+09          4   \n",
            "62377  1.753855e+09          1   \n",
            "62378  1.753855e+09          4   \n",
            "62379  1.753855e+09          4   \n",
            "\n",
            "                                                 content  \n",
            "0         [layin, n, bed, headach, ughhhh, waitin, call]  \n",
            "1                      [funer, ceremoni, gloomi, friday]  \n",
            "2            [want, trade, someon, houston, ticket, one]  \n",
            "3      [ping, ghostridah14, go, prom, bc, bf, like, f...  \n",
            "4      [sleep, im, think, old, friend, want, marri, d...  \n",
            "...                                                  ...  \n",
            "62375                  [stupid, alarm, lol, morn, twiit]  \n",
            "62376  [mynervouscharm, littlebird, sonsah, hope, hap...  \n",
            "62377  [sjdvda, morinn, folk, mbb, longer, review, bl...  \n",
            "62378                                            [looov]  \n",
            "62379  [mmm, noth, lucki, ive, got, great, friend, li...  \n",
            "\n",
            "[62380 rows x 3 columns]\n"
          ]
        }
      ]
    },
    {
      "cell_type": "markdown",
      "source": [
        "Split"
      ],
      "metadata": {
        "id": "oxNRmrJWZHzp"
      }
    },
    {
      "cell_type": "code",
      "source": [
        "from sklearn.model_selection import train_test_split\n",
        "\n",
        "X = df['content']  # Features (text data)\n",
        "y = df['sentiment']  # Target (sentiments)\n",
        "\n",
        "# Split the data into training, validation, and test sets\n",
        "X_train, X_temp, y_train, y_temp = train_test_split(X, y, test_size=0.3, random_state=42)  # 70% training, 30% temporary\n",
        "\n",
        "# Further split the temporary set into validation and test sets (15% each)\n",
        "X_valid, X_test, y_valid, y_test = train_test_split(X_temp, y_temp, test_size=0.5, random_state=42)\n",
        "\n"
      ],
      "metadata": {
        "id": "rGHSfOvZXy1d"
      },
      "execution_count": null,
      "outputs": []
    },
    {
      "cell_type": "markdown",
      "source": [
        "Feature Extraction:"
      ],
      "metadata": {
        "id": "c-L7VakhZmww"
      }
    },
    {
      "cell_type": "code",
      "source": [
        "import gensim\n",
        "from gensim.models import Word2Vec\n",
        "import numpy as np\n",
        "from sklearn.manifold import TSNE\n",
        "import matplotlib.pyplot as plt\n",
        "\n",
        "# Train a Word2Vec model on your tokenized data\n",
        "model = Word2Vec(df['content'], vector_size=100, window=5, min_count=1, sg=0)  # Adjust parameters as needed\n",
        "\n",
        "# Function to average Word2Vec vectors for each document\n",
        "def document_vector(tokens, model):\n",
        "    if len(tokens) == 0:\n",
        "        return [0] * model.vector_size\n",
        "    else:\n",
        "        return np.mean([model.wv[token] for token in tokens], axis=0)\n",
        "\n",
        "# Apply the function to create a feature matrix\n",
        "df['word2vec_features'] = df['content'].apply(lambda x: document_vector(x, model))\n",
        "\n",
        "# Now, df['word2vec_features'] contains the Word2Vec vector representations for your text data.\n",
        "\n",
        "\n"
      ],
      "metadata": {
        "id": "U7smt1PiZMGD"
      },
      "execution_count": null,
      "outputs": []
    },
    {
      "cell_type": "code",
      "source": [
        "df['word2vec_features']"
      ],
      "metadata": {
        "colab": {
          "base_uri": "https://localhost:8080/"
        },
        "id": "YaW8eefw4f55",
        "outputId": "3d0ee78d-d0bf-4cf3-a6a1-b7bea01fae48"
      },
      "execution_count": null,
      "outputs": [
        {
          "output_type": "execute_result",
          "data": {
            "text/plain": [
              "0        [0.06482369, -0.018465152, -0.050029006, -0.17...\n",
              "1        [0.103232846, 0.13249578, -0.29947636, -0.0069...\n",
              "2        [-0.18602312, 0.31044486, -0.14676218, 0.02222...\n",
              "3        [-0.0341632, 0.14622565, -0.2069796, -0.032082...\n",
              "4        [0.10519391, 0.1971065, -0.12773184, -0.117883...\n",
              "                               ...                        \n",
              "62375    [0.13480118, 0.045798294, -0.230401, -0.062662...\n",
              "62376    [0.1859715, -0.32894444, -0.56605977, 0.175273...\n",
              "62377    [-0.1189913, 0.30644897, -0.0114104105, 0.2120...\n",
              "62378    [-0.023173286, 0.08865234, 0.053189095, 0.0249...\n",
              "62379    [0.07039583, 0.24051103, -0.21259432, -0.04279...\n",
              "Name: word2vec_features, Length: 62380, dtype: object"
            ]
          },
          "metadata": {},
          "execution_count": 98
        }
      ]
    },
    {
      "cell_type": "code",
      "source": [
        "# Find similar words to a given word\n",
        "similar_words = model.wv.most_similar('want', topn=5)\n",
        "print(\"Words similar to 'want':\", similar_words)\n",
        "\n"
      ],
      "metadata": {
        "colab": {
          "base_uri": "https://localhost:8080/"
        },
        "id": "LgxFASBCamYv",
        "outputId": "09e49af8-86f4-42e7-ea0d-2b0108c93066"
      },
      "execution_count": null,
      "outputs": [
        {
          "output_type": "stream",
          "name": "stdout",
          "text": [
            "Words similar to 'want': [('soooooooon', 0.9051178693771362), ('let', 0.8925603628158569), ('multitask', 0.8846469521522522), ('msn', 0.8810252547264099), ('tweetphoto', 0.878006637096405)]\n"
          ]
        }
      ]
    },
    {
      "cell_type": "markdown",
      "source": [
        "LSTM Model"
      ],
      "metadata": {
        "id": "qpqr5aJ6ZveT"
      }
    },
    {
      "cell_type": "code",
      "source": [
        "import numpy as np\n",
        "import pandas as pd\n",
        "from sklearn.model_selection import train_test_split\n",
        "from keras.preprocessing.text import Tokenizer\n",
        "from keras.preprocessing.sequence import pad_sequences\n",
        "from keras.models import Sequential\n",
        "from keras.layers import Embedding, LSTM, Dense\n",
        "from keras.utils import to_categorical\n",
        "\n",
        "\n",
        "# Tokenization\n",
        "max_words = 10000\n",
        "tokenizer = Tokenizer(num_words=max_words)\n",
        "tokenizer.fit_on_texts(X_train)\n",
        "X_train_seq = tokenizer.texts_to_sequences(X_train)\n",
        "X_valid_seq = tokenizer.texts_to_sequences(X_valid)\n",
        "X_test_seq = tokenizer.texts_to_sequences(X_test)\n",
        "\n",
        "# Padding sequences to a fixed length\n",
        "max_sequence_length = 100\n",
        "X_train_seq = pad_sequences(X_train_seq, maxlen=max_sequence_length)\n",
        "X_valid_seq = pad_sequences(X_valid_seq, maxlen=max_sequence_length)\n",
        "X_test_seq = pad_sequences(X_test_seq, maxlen=max_sequence_length)\n",
        "\n",
        "# One-hot encode the labels (assuming y_train and y_valid are integer labels)\n",
        "num_classes = 13\n",
        "y_train_one_hot = to_categorical(y_train, num_classes=num_classes)\n",
        "y_valid_one_hot = to_categorical(y_valid, num_classes=num_classes)\n",
        "\n",
        "# Build the LSTM model\n",
        "model = Sequential()\n",
        "model.add(Embedding(input_dim=max_words, output_dim=100, input_length=max_sequence_length))\n",
        "model.add(LSTM(128))\n",
        "model.add(Dense(num_classes, activation='softmax'))  # Use num_classes as the output size\n",
        "\n",
        "# Compile the model\n",
        "model.compile(loss='categorical_crossentropy', optimizer='adam', metrics=['accuracy'])\n",
        "\n",
        "# Train the model\n",
        "model.fit(X_train_seq, y_train_one_hot, validation_data=(X_valid_seq, y_valid_one_hot), epochs=10, batch_size=128)\n",
        "\n",
        "\n"
      ],
      "metadata": {
        "colab": {
          "base_uri": "https://localhost:8080/"
        },
        "id": "buazbmNzZyCk",
        "outputId": "ab3277a2-2dc8-4995-bb1f-54af483fe1b3"
      },
      "execution_count": null,
      "outputs": [
        {
          "output_type": "stream",
          "name": "stdout",
          "text": [
            "Epoch 1/10\n",
            "342/342 [==============================] - 120s 341ms/step - loss: 1.4605 - accuracy: 0.3567 - val_loss: 1.3295 - val_accuracy: 0.4311\n",
            "Epoch 2/10\n",
            "342/342 [==============================] - 113s 329ms/step - loss: 1.1491 - accuracy: 0.5348 - val_loss: 1.2067 - val_accuracy: 0.5142\n",
            "Epoch 3/10\n",
            "342/342 [==============================] - 116s 339ms/step - loss: 0.9688 - accuracy: 0.6296 - val_loss: 1.1890 - val_accuracy: 0.5362\n",
            "Epoch 4/10\n",
            "342/342 [==============================] - 116s 338ms/step - loss: 0.8417 - accuracy: 0.6865 - val_loss: 1.1583 - val_accuracy: 0.5659\n",
            "Epoch 5/10\n",
            "342/342 [==============================] - 112s 327ms/step - loss: 0.7401 - accuracy: 0.7310 - val_loss: 1.1363 - val_accuracy: 0.5981\n",
            "Epoch 6/10\n",
            "342/342 [==============================] - 113s 331ms/step - loss: 0.6700 - accuracy: 0.7584 - val_loss: 1.1043 - val_accuracy: 0.6221\n",
            "Epoch 7/10\n",
            "342/342 [==============================] - 112s 328ms/step - loss: 0.6067 - accuracy: 0.7824 - val_loss: 1.1078 - val_accuracy: 0.6316\n",
            "Epoch 8/10\n",
            "342/342 [==============================] - 115s 336ms/step - loss: 0.5570 - accuracy: 0.8016 - val_loss: 1.1158 - val_accuracy: 0.6433\n",
            "Epoch 9/10\n",
            "342/342 [==============================] - 114s 334ms/step - loss: 0.5156 - accuracy: 0.8176 - val_loss: 1.1005 - val_accuracy: 0.6511\n",
            "Epoch 10/10\n",
            "342/342 [==============================] - 114s 334ms/step - loss: 0.4751 - accuracy: 0.8314 - val_loss: 1.1321 - val_accuracy: 0.6631\n"
          ]
        },
        {
          "output_type": "execute_result",
          "data": {
            "text/plain": [
              "<keras.src.callbacks.History at 0x78fbf41266e0>"
            ]
          },
          "metadata": {},
          "execution_count": 101
        }
      ]
    },
    {
      "cell_type": "code",
      "source": [
        "# Evaluate the model on the test set\n",
        "y_test_one_hot = to_categorical(y_test, num_classes=num_classes)  # One-hot encode test labels\n",
        "loss, accuracy = model.evaluate(X_test_seq, y_test_one_hot)\n",
        "print(f'Test loss: {loss}, Test accuracy: {accuracy}')"
      ],
      "metadata": {
        "colab": {
          "base_uri": "https://localhost:8080/"
        },
        "id": "qA6t8SMSdJmw",
        "outputId": "b7d70a04-1212-444b-e789-dba9a75b346a"
      },
      "execution_count": null,
      "outputs": [
        {
          "output_type": "stream",
          "name": "stdout",
          "text": [
            "293/293 [==============================] - 14s 49ms/step - loss: 1.1105 - accuracy: 0.6686\n",
            "Test loss: 1.1104737520217896, Test accuracy: 0.6685903668403625\n"
          ]
        }
      ]
    },
    {
      "cell_type": "code",
      "source": [
        "import numpy as np\n",
        "from sklearn.metrics import classification_report, confusion_matrix\n",
        "\n",
        "\n",
        "# Evaluate the model on the test set\n",
        "y_test_one_hot = to_categorical(y_test, num_classes=num_classes)  # One-hot encode test labels\n",
        "loss, accuracy = model.evaluate(X_test_seq, y_test_one_hot)\n",
        "print(f'Test loss: {loss}, Test accuracy: {accuracy}')\n",
        "\n",
        "# Predict sentiment labels for the test set\n",
        "y_pred = model.predict(X_test_seq)\n",
        "y_pred_labels = np.argmax(y_pred, axis=1)  # Convert one-hot encoded predictions to labels\n",
        "\n",
        "your_sentiment_labels = ['neutral', 'worry', 'happiness', 'sadness', 'love']\n",
        "classification_report_result = classification_report(y_test, y_pred_labels, target_names=your_sentiment_labels)\n",
        "print(\"Classification Report:\\n\", classification_report_result)\n",
        "\n",
        "# Calculate the confusion matrix\n",
        "confusion_mat = confusion_matrix(y_test, y_pred_labels)\n",
        "print(\"Confusion Matrix:\\n\", confusion_mat)\n",
        "\n",
        "# Analyze results for each sentiment category (assuming you have a list of sentiment labels)\n",
        "your_sentiment_labels = ['neutral', 'worry', 'happiness', 'sadness', 'love']\n",
        "\n",
        "for i, label in enumerate(your_sentiment_labels):\n",
        "    category_accuracy = np.sum((y_test == i) & (y_pred_labels == i)) / np.sum(y_test == i)\n",
        "    print(f'Category: {label} - Accuracy: {category_accuracy:.4f}')\n"
      ],
      "metadata": {
        "colab": {
          "base_uri": "https://localhost:8080/"
        },
        "id": "6t7mRut7daVV",
        "outputId": "e710b223-b3ee-4b6f-e6c6-db2edfd29af5"
      },
      "execution_count": null,
      "outputs": [
        {
          "output_type": "stream",
          "name": "stdout",
          "text": [
            "293/293 [==============================] - 14s 47ms/step - loss: 1.1105 - accuracy: 0.6686\n",
            "Test loss: 1.1104737520217896, Test accuracy: 0.6685903668403625\n",
            "293/293 [==============================] - 14s 45ms/step\n",
            "Classification Report:\n",
            "               precision    recall  f1-score   support\n",
            "\n",
            "     neutral       0.70      0.69      0.69      2600\n",
            "       worry       0.68      0.68      0.68      2547\n",
            "   happiness       0.69      0.62      0.65      1557\n",
            "     sadness       0.63      0.62      0.62      1513\n",
            "        love       0.62      0.71      0.66      1140\n",
            "\n",
            "    accuracy                           0.67      9357\n",
            "   macro avg       0.66      0.67      0.66      9357\n",
            "weighted avg       0.67      0.67      0.67      9357\n",
            "\n",
            "Confusion Matrix:\n",
            " [[1800  315  185  178  122]\n",
            " [ 327 1739   93  272  116]\n",
            " [ 178  126  972   64  217]\n",
            " [ 190  295   45  934   49]\n",
            " [  88   78  120   43  811]]\n",
            "Category: neutral - Accuracy: 0.6923\n",
            "Category: worry - Accuracy: 0.6828\n",
            "Category: happiness - Accuracy: 0.6243\n",
            "Category: sadness - Accuracy: 0.6173\n",
            "Category: love - Accuracy: 0.7114\n"
          ]
        }
      ]
    },
    {
      "cell_type": "code",
      "source": [
        "import numpy as np\n",
        "from keras.preprocessing.text import Tokenizer\n",
        "from keras.preprocessing.sequence import pad_sequences\n",
        "\n",
        "# Define the sample texts\n",
        "sample_texts = [\n",
        "    \"I'm feeling really happy today!\",\n",
        "    \"I'm a bit worried about the upcoming exam.\",\n",
        "    \"This movie was so boring and sad.\",\n",
        "    \"I love spending time with my friends.\",\n",
        "    \"The surprise birthday party was a blast!\",\n",
        "    \"I had so much fun at the amusement park.\",\n",
        "    \"This news brings relief to the affected families.\",\n",
        "    \"I hate when it rains on a picnic day.\",\n",
        "    \"I feel empty without you here.\",\n",
        "    \"I'm overcome with boredom on a rainy day.\",\n",
        "    \"I'm enthusiastic about the new project at work.\",\n",
        "    \"The anger in his voice was unmistakable.\"\n",
        "]\n",
        "\n",
        "# Tokenize and preprocess the sample texts\n",
        "max_sequence_length = 100  # Should match the sequence length used during training\n",
        "tokenized_samples = tokenizer.texts_to_sequences(sample_texts)\n",
        "padded_samples = pad_sequences(tokenized_samples, maxlen=max_sequence_length)\n",
        "\n",
        "predictions = model.predict(padded_samples)\n",
        "\n",
        "# Define the sentiment labels\n",
        "sentiment_labels = ['neutral', 'worry', 'happiness', 'sadness', 'love']\n",
        "\n",
        "# Identify the sentiment for each sample text\n",
        "for i, prediction in enumerate(predictions):\n",
        "    predicted_sentiment = sentiment_labels[np.argmax(prediction)]\n",
        "    print(f\"Text {i + 1}: Predicted Sentiment - {predicted_sentiment}\")\n"
      ],
      "metadata": {
        "colab": {
          "base_uri": "https://localhost:8080/"
        },
        "id": "aJaJC6rsd2I9",
        "outputId": "48b75764-0075-486c-936a-36906406cee0"
      },
      "execution_count": null,
      "outputs": [
        {
          "output_type": "stream",
          "name": "stdout",
          "text": [
            "1/1 [==============================] - 0s 43ms/step\n",
            "Text 1: Predicted Sentiment - neutral\n",
            "Text 2: Predicted Sentiment - neutral\n",
            "Text 3: Predicted Sentiment - sadness\n",
            "Text 4: Predicted Sentiment - love\n",
            "Text 5: Predicted Sentiment - happiness\n",
            "Text 6: Predicted Sentiment - happiness\n",
            "Text 7: Predicted Sentiment - worry\n",
            "Text 8: Predicted Sentiment - neutral\n",
            "Text 9: Predicted Sentiment - worry\n",
            "Text 10: Predicted Sentiment - neutral\n",
            "Text 11: Predicted Sentiment - neutral\n",
            "Text 12: Predicted Sentiment - happiness\n"
          ]
        }
      ]
    }
  ]
}